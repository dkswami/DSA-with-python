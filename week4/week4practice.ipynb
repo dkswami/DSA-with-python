{
 "cells": [
  {
   "cell_type": "code",
   "execution_count": 14,
   "id": "928d7e8f",
   "metadata": {
    "scrolled": true
   },
   "outputs": [
    {
     "data": {
      "text/plain": [
       "[[0, 0, 0], [0, 6, 3], [0, 0, 0], [0, 0, 0]]"
      ]
     },
     "execution_count": 14,
     "metadata": {},
     "output_type": "execute_result"
    }
   ],
   "source": [
    "def iseven(x):\n",
    "    return(x%2 == 0)\n",
    "\n",
    "def square(x):\n",
    "    return(x*x)\n",
    "\n",
    "# [ square(i) for i in range(100) if iseven(i)]\n",
    "\n",
    "# [ (x,y,z) for x in range(100) for y in range(x,100) for z in range(y,100) if x*x + y*y == z*z]\n",
    "# [ (x,y,z) for x in range(100) for y in range(x,100) for z in range(y,100) if x*x + y*y == z*z and x!=0]\n",
    "out = [[0 for i in range(3)] for j in range(4)]\n",
    "out[1][2] = 3\n",
    "out[1][1] =6\n",
    "out"
   ]
  },
  {
   "cell_type": "code",
   "execution_count": null,
   "id": "34ace9c3",
   "metadata": {},
   "outputs": [],
   "source": []
  }
 ],
 "metadata": {
  "kernelspec": {
   "display_name": "Python 3 (ipykernel)",
   "language": "python",
   "name": "python3"
  },
  "language_info": {
   "codemirror_mode": {
    "name": "ipython",
    "version": 3
   },
   "file_extension": ".py",
   "mimetype": "text/x-python",
   "name": "python",
   "nbconvert_exporter": "python",
   "pygments_lexer": "ipython3",
   "version": "3.9.12"
  }
 },
 "nbformat": 4,
 "nbformat_minor": 5
}
