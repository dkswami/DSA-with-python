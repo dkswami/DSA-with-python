{
 "cells": [
  {
   "cell_type": "code",
   "execution_count": 1,
   "id": "2c4571ff",
   "metadata": {},
   "outputs": [
    {
     "name": "stdout",
     "output_type": "stream",
     "text": [
      "adnocana\n"
     ]
    }
   ],
   "source": [
    "startmsg = \"anaconda\"\n",
    "endmsg = \"\"\n",
    "for i in range(1,1+len(startmsg)):\n",
    "  endmsg = endmsg + startmsg[-i]\n",
    "print(endmsg)"
   ]
  },
  {
   "cell_type": "code",
   "execution_count": 2,
   "id": "6ae1dd04",
   "metadata": {},
   "outputs": [
    {
     "name": "stdout",
     "output_type": "stream",
     "text": [
      "[13, 17, 19, 21]\n"
     ]
    }
   ],
   "source": [
    "def mystery(l):\n",
    "  l = l[2:]\n",
    "  return(l)\n",
    "\n",
    "mylist = [7,11,13,17,19,21]\n",
    "print(mystery(mylist))\n"
   ]
  },
  {
   "cell_type": "code",
   "execution_count": null,
   "id": "1fc34c08",
   "metadata": {},
   "outputs": [],
   "source": []
  }
 ],
 "metadata": {
  "kernelspec": {
   "display_name": "Python 3 (ipykernel)",
   "language": "python",
   "name": "python3"
  },
  "language_info": {
   "codemirror_mode": {
    "name": "ipython",
    "version": 3
   },
   "file_extension": ".py",
   "mimetype": "text/x-python",
   "name": "python",
   "nbconvert_exporter": "python",
   "pygments_lexer": "ipython3",
   "version": "3.9.12"
  }
 },
 "nbformat": 4,
 "nbformat_minor": 5
}
