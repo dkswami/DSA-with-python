{
 "cells": [
  {
   "cell_type": "markdown",
   "id": "cb5debe3",
   "metadata": {},
   "source": [
    "# Q4. Problem: Counting the number of negative numbers in sorted array "
   ]
  },
  {
   "cell_type": "code",
   "execution_count": 15,
   "id": "98f145e2",
   "metadata": {
    "scrolled": true
   },
   "outputs": [
    {
     "name": "stdout",
     "output_type": "stream",
     "text": [
      "6\n",
      "6\n"
     ]
    }
   ],
   "source": [
    "array= [\n",
    "    [-4,-3,-1,1],\n",
    "    [-2,-2,1,2],\n",
    "    [-1,1,2,3],\n",
    "    [1,2,4,5]\n",
    "]\n",
    "\n",
    "def count_negativesOn2(given_array):\n",
    "    count = 0\n",
    "    for row in range(len(given_array)):\n",
    "        for col in range(len(given_array[row])):\n",
    "            if given_array[row][col]<0:\n",
    "                count+=1\n",
    "    return count\n",
    "\n",
    "def count_negativesOn(given_array):\n",
    "    count = 0\n",
    "    row_i = 0\n",
    "    col_i = len(given_array[0]) - 1\n",
    "    while row_i < len(given_array) and col_i >= 0:\n",
    "        if given_array[row_i][col_i] >= 0:\n",
    "            col_i -= 1\n",
    "        else :\n",
    "            count += (col_i +1)\n",
    "            row_i += 1\n",
    "    return count\n",
    "\n",
    "\n",
    "print(count_negativesOn2(array))\n",
    "print(count_negativesOn(array))"
   ]
  },
  {
   "cell_type": "markdown",
   "id": "d7c9428e",
   "metadata": {},
   "source": [
    "# Python dictionaries/Hash tables\n",
    "## Practice problem:"
   ]
  },
  {
   "cell_type": "code",
   "execution_count": 21,
   "id": "c35fd923",
   "metadata": {},
   "outputs": [
    {
     "data": {
      "text/plain": [
       "{'George': 1, 'Tom': 3, 'Emily': 1, 'Jenny': 1}"
      ]
     },
     "execution_count": 21,
     "metadata": {},
     "output_type": "execute_result"
    }
   ],
   "source": [
    "#function to find a name appears twice in the list\n",
    "def appears_twice(given_list):\n",
    "    name_dict = {} # {'George': 1, 'Tom': 1}\n",
    "    for n in given_list:\n",
    "        if n in name_dict:\n",
    "            name_dict[n] = name_dict[n] + 1\n",
    "        else:\n",
    "            name_dict[n] = 1\n",
    "    return name_dict\n",
    "\n",
    "appears_twice(['George', 'Tom', 'Emily', 'Jenny', 'Tom', 'Tom'])"
   ]
  },
  {
   "cell_type": "code",
   "execution_count": 28,
   "id": "5626e6dd",
   "metadata": {},
   "outputs": [
    {
     "name": "stdout",
     "output_type": "stream",
     "text": [
      "9,1\n"
     ]
    }
   ],
   "source": [
    "#find numbers that form a pair of 10 in a list\n",
    "list = [3,5,4,1,2,9,0]\n",
    "def pair10(given_list):\n",
    "    num_seen = {} # {'3':1,'5':1}\n",
    "    for num in given_list:\n",
    "        if 10-num in num_seen:\n",
    "            print(str(num) + ',' + str(10-num))\n",
    "            return\n",
    "        else:\n",
    "            num_seen[num] = 1\n",
    "    print('There is no pair that adds to 10')\n",
    "    \n",
    "pair10(list)    "
   ]
  },
  {
   "cell_type": "code",
   "execution_count": null,
   "id": "2a1a748e",
   "metadata": {},
   "outputs": [],
   "source": []
  }
 ],
 "metadata": {
  "kernelspec": {
   "display_name": "Python 3 (ipykernel)",
   "language": "python",
   "name": "python3"
  },
  "language_info": {
   "codemirror_mode": {
    "name": "ipython",
    "version": 3
   },
   "file_extension": ".py",
   "mimetype": "text/x-python",
   "name": "python",
   "nbconvert_exporter": "python",
   "pygments_lexer": "ipython3",
   "version": "3.9.12"
  }
 },
 "nbformat": 4,
 "nbformat_minor": 5
}
