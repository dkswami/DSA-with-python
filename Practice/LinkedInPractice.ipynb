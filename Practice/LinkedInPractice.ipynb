{
 "cells": [
  {
   "cell_type": "markdown",
   "id": "4dc36653",
   "metadata": {},
   "source": [
    "# Q4. Problem: Counting the number of negative numbers in sorted array "
   ]
  },
  {
   "cell_type": "code",
   "execution_count": 15,
   "id": "b950830f",
   "metadata": {
    "scrolled": false
   },
   "outputs": [
    {
     "name": "stdout",
     "output_type": "stream",
     "text": [
      "6\n",
      "6\n"
     ]
    }
   ],
   "source": [
    "array= [\n",
    "    [-4,-3,-1,1],\n",
    "    [-2,-2,1,2],\n",
    "    [-1,1,2,3],\n",
    "    [1,2,4,5]\n",
    "]\n",
    "\n",
    "def count_negativesOn2(given_array):\n",
    "    count = 0\n",
    "    for row in range(len(given_array)):\n",
    "        for col in range(len(given_array[row])):\n",
    "            if given_array[row][col]<0:\n",
    "                count+=1\n",
    "    return count\n",
    "\n",
    "def count_negativesOn(given_array):\n",
    "    count = 0\n",
    "    row_i = 0\n",
    "    col_i = len(given_array[0]) - 1\n",
    "    while row_i < len(given_array) and col_i >= 0:\n",
    "        if given_array[row_i][col_i] >= 0:\n",
    "            col_i -= 1\n",
    "        else :\n",
    "            count += (col_i +1)\n",
    "            row_i += 1\n",
    "    return count\n",
    "\n",
    "\n",
    "print(count_negativesOn2(array))\n",
    "print(count_negativesOn(array))"
   ]
  },
  {
   "cell_type": "code",
   "execution_count": null,
   "id": "6d779495",
   "metadata": {},
   "outputs": [],
   "source": []
  },
  {
   "cell_type": "code",
   "execution_count": null,
   "id": "5cf535ef",
   "metadata": {},
   "outputs": [],
   "source": []
  }
 ],
 "metadata": {
  "kernelspec": {
   "display_name": "Python 3 (ipykernel)",
   "language": "python",
   "name": "python3"
  },
  "language_info": {
   "codemirror_mode": {
    "name": "ipython",
    "version": 3
   },
   "file_extension": ".py",
   "mimetype": "text/x-python",
   "name": "python",
   "nbconvert_exporter": "python",
   "pygments_lexer": "ipython3",
   "version": "3.9.12"
  }
 },
 "nbformat": 4,
 "nbformat_minor": 5
}
