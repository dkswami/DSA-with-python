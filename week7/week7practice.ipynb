{
 "cells": [
  {
   "cell_type": "code",
   "execution_count": null,
   "id": "ddd78266",
   "metadata": {},
   "outputs": [],
   "source": [
    "class Node:\n",
    "    def __init__(self, initval = None):\n",
    "        self.value = initval\n",
    "        self.next = None\n",
    "        \n",
    "    def isempty(self):\n",
    "        return(self.value == None)\n",
    "    \n",
    "    def append(self, val):\n",
    "        if self.isempty():\n",
    "            self.value = val\n",
    "        elif self.next == None:\n",
    "            newnode = Node(val)\n",
    "            self.next = newnode\n",
    "        else:\n",
    "            (self.next).append(val)\n",
    "        return()\n",
    "    def appendi(self, val):\n",
    "        if self.isempty():\n",
    "            self.value = val\n",
    "            return()\n",
    "        while self.next != None:\n",
    "            temp = temp.next\n",
    "        newnode = Node(val)\n",
    "        temp.next = newnode\n",
    "        return()\n",
    "    def insert(self, val):\n",
    "        if self.isempty():\n",
    "            self.value = val\n",
    "            return()\n",
    "        newnode = Node(val)\n",
    "        (self.value, newnode.value) = (newnode.value, self.value)\n",
    "        (self.next, newnode.next) = (newnode, self.next)\n",
    "        return()\n",
    "    def delete(self,x):\n",
    "        if self.isempty():\n",
    "            return()\n",
    "        if self.value == x:\n",
    "            if self.next == None\n",
    "                self.value = None\n",
    "            else:\n",
    "                self.value = self.next.value\n",
    "                self.next = self.next.next\n",
    "                return()\n",
    "    \n",
    "    "
   ]
  }
 ],
 "metadata": {
  "kernelspec": {
   "display_name": "Python 3 (ipykernel)",
   "language": "python",
   "name": "python3"
  },
  "language_info": {
   "codemirror_mode": {
    "name": "ipython",
    "version": 3
   },
   "file_extension": ".py",
   "mimetype": "text/x-python",
   "name": "python",
   "nbconvert_exporter": "python",
   "pygments_lexer": "ipython3",
   "version": "3.9.12"
  }
 },
 "nbformat": 4,
 "nbformat_minor": 5
}
